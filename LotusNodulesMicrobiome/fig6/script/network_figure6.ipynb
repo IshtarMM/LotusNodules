{
 "cells": [
  {
   "cell_type": "markdown",
   "metadata": {},
   "source": [
    "This script provides input files and steps for visulizing interaction network of ASVs (figure 6)"
   ]
  },
  {
   "cell_type": "code",
   "execution_count": 33,
   "metadata": {},
   "outputs": [],
   "source": [
    "# import packages\n",
    "library(dplyr)\n",
    "library(tidyr)\n"
   ]
  },
  {
   "cell_type": "code",
   "execution_count": 55,
   "metadata": {},
   "outputs": [
    {
     "data": {
      "text/html": [
       "<table>\n",
       "<caption>A data.frame: 6 × 31</caption>\n",
       "<thead>\n",
       "\t<tr><th></th><th scope=col>#OTU ID</th><th scope=col>Lb_2_Healthy_A</th><th scope=col>Lb_2_Healthy_B</th><th scope=col>Lb_2_Healthy_C</th><th scope=col>Lb_2_Healthy_D</th><th scope=col>Lb_2_Healthy_E</th><th scope=col>Lb_2_Healthy_F</th><th scope=col>Lb_2_Healthy_G</th><th scope=col>Lb_2_Healthy_H</th><th scope=col>Lb_2_Healthy_I</th><th scope=col>⋯</th><th scope=col>Lb_2_Starved_D</th><th scope=col>Lb_2_Starved_E</th><th scope=col>Lb_2_Starved_F</th><th scope=col>Lb_2_Starved_G</th><th scope=col>Lb_2_Starved_H</th><th scope=col>Lb_2_Starved_I</th><th scope=col>Lb_2_Starved_J</th><th scope=col>Lb_2_Starved_K</th><th scope=col>Lb_2_Starved_L</th><th scope=col>Lb_2_Starved_M</th></tr>\n",
       "\t<tr><th></th><th scope=col>&lt;chr&gt;</th><th scope=col>&lt;dbl&gt;</th><th scope=col>&lt;dbl&gt;</th><th scope=col>&lt;dbl&gt;</th><th scope=col>&lt;dbl&gt;</th><th scope=col>&lt;dbl&gt;</th><th scope=col>&lt;dbl&gt;</th><th scope=col>&lt;dbl&gt;</th><th scope=col>&lt;dbl&gt;</th><th scope=col>&lt;dbl&gt;</th><th scope=col>⋯</th><th scope=col>&lt;dbl&gt;</th><th scope=col>&lt;dbl&gt;</th><th scope=col>&lt;dbl&gt;</th><th scope=col>&lt;dbl&gt;</th><th scope=col>&lt;dbl&gt;</th><th scope=col>&lt;dbl&gt;</th><th scope=col>&lt;dbl&gt;</th><th scope=col>&lt;dbl&gt;</th><th scope=col>&lt;dbl&gt;</th><th scope=col>&lt;dbl&gt;</th></tr>\n",
       "</thead>\n",
       "<tbody>\n",
       "\t<tr><th scope=row>1</th><td>ASV1_Mesorhizobium  </td><td>158682</td><td>96522</td><td>79175</td><td>185493</td><td>79161</td><td>118648</td><td>157116</td><td>159759</td><td>190633</td><td>⋯</td><td>260</td><td>91388</td><td>39483</td><td>1511</td><td>95205</td><td>33101</td><td>51779</td><td>27003</td><td>144</td><td>2271</td></tr>\n",
       "\t<tr><th scope=row>2</th><td>ASV1032_unknown     </td><td>     0</td><td>    0</td><td>    0</td><td>     0</td><td>    0</td><td>     0</td><td>     0</td><td>    42</td><td>     0</td><td>⋯</td><td>  0</td><td>    0</td><td>    0</td><td>   0</td><td>    0</td><td>   19</td><td>    0</td><td>    0</td><td>  0</td><td>   0</td></tr>\n",
       "\t<tr><th scope=row>3</th><td>ASV104_Mesorhizobium</td><td>     0</td><td>    0</td><td>  385</td><td>     0</td><td>    0</td><td>     0</td><td>     0</td><td>     0</td><td>     0</td><td>⋯</td><td>  0</td><td>    0</td><td>    0</td><td>   0</td><td>    0</td><td>    0</td><td>    0</td><td>    0</td><td>  0</td><td>   0</td></tr>\n",
       "\t<tr><th scope=row>4</th><td>ASV1049_unknown     </td><td>     0</td><td>    0</td><td>    0</td><td>     0</td><td>    0</td><td>     0</td><td>     0</td><td>     0</td><td>     0</td><td>⋯</td><td>  8</td><td>    0</td><td>   22</td><td>  11</td><td>    0</td><td>    0</td><td>    0</td><td>    0</td><td>  0</td><td>   0</td></tr>\n",
       "\t<tr><th scope=row>5</th><td>ASV106_Mesorhizobium</td><td>     0</td><td>    0</td><td>    0</td><td>     0</td><td>   92</td><td>     0</td><td>     0</td><td>     0</td><td>     0</td><td>⋯</td><td> 57</td><td>    0</td><td>  269</td><td> 195</td><td>    0</td><td>  127</td><td>   97</td><td>   93</td><td>  0</td><td>  23</td></tr>\n",
       "\t<tr><th scope=row>6</th><td>ASV108_Mesorhizobium</td><td>     0</td><td>    0</td><td>  347</td><td>     0</td><td>    0</td><td>     0</td><td>     0</td><td>     0</td><td>     0</td><td>⋯</td><td>  0</td><td>    0</td><td>    0</td><td>   0</td><td>    0</td><td>    0</td><td>    0</td><td>    0</td><td>  0</td><td>   0</td></tr>\n",
       "</tbody>\n",
       "</table>\n"
      ],
      "text/latex": [
       "A data.frame: 6 × 31\n",
       "\\begin{tabular}{r|lllllllllllllllllllll}\n",
       "  & \\#OTU ID & Lb\\_2\\_Healthy\\_A & Lb\\_2\\_Healthy\\_B & Lb\\_2\\_Healthy\\_C & Lb\\_2\\_Healthy\\_D & Lb\\_2\\_Healthy\\_E & Lb\\_2\\_Healthy\\_F & Lb\\_2\\_Healthy\\_G & Lb\\_2\\_Healthy\\_H & Lb\\_2\\_Healthy\\_I & ⋯ & Lb\\_2\\_Starved\\_D & Lb\\_2\\_Starved\\_E & Lb\\_2\\_Starved\\_F & Lb\\_2\\_Starved\\_G & Lb\\_2\\_Starved\\_H & Lb\\_2\\_Starved\\_I & Lb\\_2\\_Starved\\_J & Lb\\_2\\_Starved\\_K & Lb\\_2\\_Starved\\_L & Lb\\_2\\_Starved\\_M\\\\\n",
       "  & <chr> & <dbl> & <dbl> & <dbl> & <dbl> & <dbl> & <dbl> & <dbl> & <dbl> & <dbl> & ⋯ & <dbl> & <dbl> & <dbl> & <dbl> & <dbl> & <dbl> & <dbl> & <dbl> & <dbl> & <dbl>\\\\\n",
       "\\hline\n",
       "\t1 & ASV1\\_Mesorhizobium   & 158682 & 96522 & 79175 & 185493 & 79161 & 118648 & 157116 & 159759 & 190633 & ⋯ & 260 & 91388 & 39483 & 1511 & 95205 & 33101 & 51779 & 27003 & 144 & 2271\\\\\n",
       "\t2 & ASV1032\\_unknown      &      0 &     0 &     0 &      0 &     0 &      0 &      0 &     42 &      0 & ⋯ &   0 &     0 &     0 &    0 &     0 &    19 &     0 &     0 &   0 &    0\\\\\n",
       "\t3 & ASV104\\_Mesorhizobium &      0 &     0 &   385 &      0 &     0 &      0 &      0 &      0 &      0 & ⋯ &   0 &     0 &     0 &    0 &     0 &     0 &     0 &     0 &   0 &    0\\\\\n",
       "\t4 & ASV1049\\_unknown      &      0 &     0 &     0 &      0 &     0 &      0 &      0 &      0 &      0 & ⋯ &   8 &     0 &    22 &   11 &     0 &     0 &     0 &     0 &   0 &    0\\\\\n",
       "\t5 & ASV106\\_Mesorhizobium &      0 &     0 &     0 &      0 &    92 &      0 &      0 &      0 &      0 & ⋯ &  57 &     0 &   269 &  195 &     0 &   127 &    97 &    93 &   0 &   23\\\\\n",
       "\t6 & ASV108\\_Mesorhizobium &      0 &     0 &   347 &      0 &     0 &      0 &      0 &      0 &      0 & ⋯ &   0 &     0 &     0 &    0 &     0 &     0 &     0 &     0 &   0 &    0\\\\\n",
       "\\end{tabular}\n"
      ],
      "text/markdown": [
       "\n",
       "A data.frame: 6 × 31\n",
       "\n",
       "| <!--/--> | #OTU ID &lt;chr&gt; | Lb_2_Healthy_A &lt;dbl&gt; | Lb_2_Healthy_B &lt;dbl&gt; | Lb_2_Healthy_C &lt;dbl&gt; | Lb_2_Healthy_D &lt;dbl&gt; | Lb_2_Healthy_E &lt;dbl&gt; | Lb_2_Healthy_F &lt;dbl&gt; | Lb_2_Healthy_G &lt;dbl&gt; | Lb_2_Healthy_H &lt;dbl&gt; | Lb_2_Healthy_I &lt;dbl&gt; | ⋯ ⋯ | Lb_2_Starved_D &lt;dbl&gt; | Lb_2_Starved_E &lt;dbl&gt; | Lb_2_Starved_F &lt;dbl&gt; | Lb_2_Starved_G &lt;dbl&gt; | Lb_2_Starved_H &lt;dbl&gt; | Lb_2_Starved_I &lt;dbl&gt; | Lb_2_Starved_J &lt;dbl&gt; | Lb_2_Starved_K &lt;dbl&gt; | Lb_2_Starved_L &lt;dbl&gt; | Lb_2_Starved_M &lt;dbl&gt; |\n",
       "|---|---|---|---|---|---|---|---|---|---|---|---|---|---|---|---|---|---|---|---|---|---|\n",
       "| 1 | ASV1_Mesorhizobium   | 158682 | 96522 | 79175 | 185493 | 79161 | 118648 | 157116 | 159759 | 190633 | ⋯ | 260 | 91388 | 39483 | 1511 | 95205 | 33101 | 51779 | 27003 | 144 | 2271 |\n",
       "| 2 | ASV1032_unknown      |      0 |     0 |     0 |      0 |     0 |      0 |      0 |     42 |      0 | ⋯ |   0 |     0 |     0 |    0 |     0 |    19 |     0 |     0 |   0 |    0 |\n",
       "| 3 | ASV104_Mesorhizobium |      0 |     0 |   385 |      0 |     0 |      0 |      0 |      0 |      0 | ⋯ |   0 |     0 |     0 |    0 |     0 |     0 |     0 |     0 |   0 |    0 |\n",
       "| 4 | ASV1049_unknown      |      0 |     0 |     0 |      0 |     0 |      0 |      0 |      0 |      0 | ⋯ |   8 |     0 |    22 |   11 |     0 |     0 |     0 |     0 |   0 |    0 |\n",
       "| 5 | ASV106_Mesorhizobium |      0 |     0 |     0 |      0 |    92 |      0 |      0 |      0 |      0 | ⋯ |  57 |     0 |   269 |  195 |     0 |   127 |    97 |    93 |   0 |   23 |\n",
       "| 6 | ASV108_Mesorhizobium |      0 |     0 |   347 |      0 |     0 |      0 |      0 |      0 |      0 | ⋯ |   0 |     0 |     0 |    0 |     0 |     0 |     0 |     0 |   0 |    0 |\n",
       "\n"
      ],
      "text/plain": [
       "  #OTU ID              Lb_2_Healthy_A Lb_2_Healthy_B Lb_2_Healthy_C\n",
       "1 ASV1_Mesorhizobium   158682         96522          79175         \n",
       "2 ASV1032_unknown           0             0              0         \n",
       "3 ASV104_Mesorhizobium      0             0            385         \n",
       "4 ASV1049_unknown           0             0              0         \n",
       "5 ASV106_Mesorhizobium      0             0              0         \n",
       "6 ASV108_Mesorhizobium      0             0            347         \n",
       "  Lb_2_Healthy_D Lb_2_Healthy_E Lb_2_Healthy_F Lb_2_Healthy_G Lb_2_Healthy_H\n",
       "1 185493         79161          118648         157116         159759        \n",
       "2      0             0               0              0             42        \n",
       "3      0             0               0              0              0        \n",
       "4      0             0               0              0              0        \n",
       "5      0            92               0              0              0        \n",
       "6      0             0               0              0              0        \n",
       "  Lb_2_Healthy_I ⋯ Lb_2_Starved_D Lb_2_Starved_E Lb_2_Starved_F Lb_2_Starved_G\n",
       "1 190633         ⋯ 260            91388          39483          1511          \n",
       "2      0         ⋯   0                0              0             0          \n",
       "3      0         ⋯   0                0              0             0          \n",
       "4      0         ⋯   8                0             22            11          \n",
       "5      0         ⋯  57                0            269           195          \n",
       "6      0         ⋯   0                0              0             0          \n",
       "  Lb_2_Starved_H Lb_2_Starved_I Lb_2_Starved_J Lb_2_Starved_K Lb_2_Starved_L\n",
       "1 95205          33101          51779          27003          144           \n",
       "2     0             19              0              0            0           \n",
       "3     0              0              0              0            0           \n",
       "4     0              0              0              0            0           \n",
       "5     0            127             97             93            0           \n",
       "6     0              0              0              0            0           \n",
       "  Lb_2_Starved_M\n",
       "1 2271          \n",
       "2    0          \n",
       "3    0          \n",
       "4    0          \n",
       "5   23          \n",
       "6    0          "
      ]
     },
     "metadata": {},
     "output_type": "display_data"
    }
   ],
   "source": [
    "# make a input table for calculation correlation matrix(select only lb plant samples and rmove ASVs with less than 50 reads)\n",
    "\n",
    "asv <- read.table(\"../data/ASV_Table.csv\" ,sep = \",\" , header = T )\n",
    "rownames(asv) <- asv$X\n",
    "taxa = read.table(\"../data/TaxaTable.csv\" ,sep = \",\" , header = T ,stringsAsFactors = FALSE)\n",
    "taxa$Genus <- taxa$Genus %>% replace_na(\"unknown\")\n",
    "taxa$Genus <- gsub(\"Allorhizobium-Neorhizobium-Pararhizobium-Rhizobium\" , 'ANPR' ,taxa$Genus )\n",
    "asvSam = merge(x <-taxa[c(1,7)], y = t(asv) ,  by.x = \"X\" , by.y = \"row.names\")\n",
    "rownames(asvSam) <- paste(asvSam$X,asvSam$Genus , sep=\"_\")\n",
    "asvSam1 <- asvSam[-c(1,2)]\n",
    "\n",
    "sample <- data.frame(asv$X)\n",
    "sample1 <- sample %>% separate(asv.X, c(\"plant\",\"soil\",\"phenotype\",\"replicate\") , remove = F)\n",
    "sample1$soil_phenotype_plant <-  paste(sample1$soil,sample1$phenotype,sample1$plant,sep = \"_\")\n",
    "\n",
    "#table(sample1$soil_phenotype_plant)\n",
    "samasv = merge(x <- sample1 , y = t(asvSam1) , by.x = \"asv.X\" , by.y = \"row.names\")\n",
    "rownames(samasv) <- samasv$asv.X\n",
    "\n",
    "#all allBsoil2\n",
    "lb <- subset(samasv ,soil_phenotype_plant == \"2_Healthy_Lb\"| soil_phenotype_plant == \"2_Starved_Lb\" )\n",
    "lb <- lb[-c(1:6)]\n",
    "lb <- as.data.frame(t(lb))\n",
    "lb1 <- apply(lb[,], 2,function(x) as.numeric(as.character(x)))\n",
    "rownames(lb1) <- rownames(lb)\n",
    "n <- data.frame(rowSums(lb1!=0))\n",
    "n$sum <- rowSums(lb1)\n",
    "n$name <- rownames(n)\n",
    "nH1 <- n\n",
    "lb1 <- as.data.frame(lb1[which(rowSums(lb1)>=50),])\n",
    "lb2 <- tibble::rownames_to_column(lb1, \"#OTU ID\")\n",
    "write.table(lb2, \"../data/data1.txr\", quote = F , sep = \"\\t\" , col.names = T , row.names = F)\n",
    "head(lb2)\n"
   ]
  },
  {
   "cell_type": "markdown",
   "metadata": {},
   "source": [
    "# calculate correlation matrix \n",
    "\n",
    "FastSpar(github.com/scwatts/FastSpar) was used to calculate correlation matrix via command line.   \n",
    "\n",
    "mkdir bootstrap_counts bootstrap_correlation\n",
    "#### step1: Correlation inference\n",
    "fastspar --otu_table data1.txt  --correlation median_correlation.tsv --covariance median_covariance.tsv > log1\n",
    "\n",
    "#### step2: Calculation of exact p-values, first generate 1000 bootstrap counts\n",
    "fastspar_bootstrap --otu_table data1.txt   --number 1000 --prefix bootstrap_counts/ > log2\n",
    "#### step3: infer correlations for each bootstrap count (running in parallel):\n",
    "parallel -j 12 fastspar --otu_table {} --correlation bootstrap_correlation/cor_{/} --covariance bootstrap_correlation/cov_{/} -i 50 ::: bootstrap_counts/*  > log3\n",
    "#### step4: From these correlations, the p-values are then calculated:\n",
    "fastspar_pvalues --otu_table data1.txt   --correlation median_correlation.tsv --prefix bootstrap_correlation/cor_  --permutations 1000 --outfile pvalues.tsv > log4\n",
    "\n",
    "#### output files are in data folder : median_correlation.tsv and pvalues.tsv , remove \"#\" from the files before opening in R\n",
    "\n"
   ]
  },
  {
   "cell_type": "markdown",
   "metadata": {},
   "source": [
    "#### Step5: Take the correlation of Pseudomonas ASVs with ANPR and Mesorisubiums from correlation matrix\n",
    "\n"
   ]
  },
  {
   "cell_type": "code",
   "execution_count": 48,
   "metadata": {},
   "outputs": [],
   "source": [
    "\n",
    "Pvals <- read.table(file = \"../data/pvalues.tsv\", sep=\"\\t\", header=T, row.names=1 ) \n",
    "Pvals1 <- as.matrix(Pvals)\n",
    "Pvals1[upper.tri(Pvals, diag=TRUE)]<- NA\n",
    "Pvals2 <- as.data.frame(as.table(Pvals1))\n",
    "colnames(Pvals2)<-c(\"Node1\",\"Node2\",\"Pvalue\")\n",
    "  \n",
    "Cors <- read.table(\"../data/median_correlation.tsv\", sep=\"\\t\", header=T, row.names=1) \n",
    "Cors1 <- as.matrix(Cors)\n",
    "Cors1[upper.tri(Cors1, diag=TRUE)]<-NA\n",
    "Cors2 <- as.data.frame(as.table(Cors1))\n",
    "colnames(Cors2)<-c(\"Node1\",\"Node2\",\"Cor\")\n",
    "  \n",
    "Edge_table <- cbind(Pvals2,Cors2$Cor, deparse.level=2)\n",
    "Edge_table_final <- Edge_table[!is.na(Edge_table$Pvalue),]\n",
    "colnames(Edge_table_final) <- c(\"Node1\",\"Node2\",\"Pvalue\",\"Cor\")\n",
    "Edge_table_final <- subset(Edge_table_final,abs(Edge_table_final$Cor)>=0.2)\n",
    "Edge_table_final$CorrB <- ifelse(Edge_table_final$Cor >=0, \"Positive\", \"Negative\")\n",
    "Edge_table_final$CorRange <- ifelse(abs(Edge_table_final$Cor) >=0.4, \"Strong\", \"Weak\")\n",
    "Edge_table_final_P0.01 <- Edge_table_final[which(Edge_table_final$Pvalue<=0.01),]\n",
    "#table(Edge_table_final_P0.01$CorrB)\n",
    "Edge_table_final_P0.01$CorrStrong = paste(Edge_table_final_P0.01$CorrB , Edge_table_final_P0.01$CorRange , sep = \"_\")\n",
    "#write.table(Edge_table_final_P0.01, file=paste(\"Pval/0.01_\",basename(corfilelist[index])), sep=\"\\t\", row.names=FALSE , quote = F)\n",
    "\n",
    "# subset correlation of pseudomonas with ANPR andMesorhizobium\n",
    "file <- Edge_table_final_P0.01\n",
    "file$name = paste(file$Node1,file$Node2, sep = \"_\")\n",
    "file <- file %>% separate(name, c(\"v1\",\"n1\",\"v2\",\"n2\") , remove = F)\n",
    "file$name2 <- paste(file$n1,file$n2,sep = \"_\")\n",
    "final <- subset(file, name2==\"Pseudomonas_Pseudomonas\" | name2 == \"ANPR_ANPR\" | name2==\"Mesorhizobium_Mesorhizobium\" | \n",
    "                  name2==\"Pseudomonas_ANPR\" | name2 ==\"ANPR_Pseudomonas\" | name2==\"Pseudomonas_Mesorhizobium\" |\n",
    "                  name2 ==\"Mesorhizobium_Pseudomonas\" | name2==\"ANPR_Mesorhizobium\" | name2 ==\"Mesorhizobium_ANPR\")\n",
    "\n",
    "\n",
    "final<- subset(final,final$Pvalue < 0.01) \n",
    "final$CorRange <- ifelse(abs(final$Cor) >=0.4, \"Strong\", \"Weak\")\n",
    "\n",
    "final1 <- subset(final, final$n1==\"Pseudomonas\" | final$n2==\"Pseudomonas\")\n",
    "write.table(final1,\"../data/InputEdgetable.csv\", sep=\",\", row.names=FALSE , quote = F)"
   ]
  },
  {
   "cell_type": "code",
   "execution_count": 46,
   "metadata": {},
   "outputs": [
    {
     "data": {
      "text/html": [
       "<table>\n",
       "<caption>A data.frame: 6 × 13</caption>\n",
       "<thead>\n",
       "\t<tr><th></th><th scope=col>Node1</th><th scope=col>Node2</th><th scope=col>Pvalue</th><th scope=col>Cor</th><th scope=col>CorrB</th><th scope=col>CorRange</th><th scope=col>CorrStrong</th><th scope=col>name</th><th scope=col>v1</th><th scope=col>n1</th><th scope=col>v2</th><th scope=col>n2</th><th scope=col>name2</th></tr>\n",
       "\t<tr><th></th><th scope=col>&lt;fct&gt;</th><th scope=col>&lt;fct&gt;</th><th scope=col>&lt;dbl&gt;</th><th scope=col>&lt;dbl&gt;</th><th scope=col>&lt;chr&gt;</th><th scope=col>&lt;chr&gt;</th><th scope=col>&lt;chr&gt;</th><th scope=col>&lt;chr&gt;</th><th scope=col>&lt;chr&gt;</th><th scope=col>&lt;chr&gt;</th><th scope=col>&lt;chr&gt;</th><th scope=col>&lt;chr&gt;</th><th scope=col>&lt;chr&gt;</th></tr>\n",
       "</thead>\n",
       "<tbody>\n",
       "\t<tr><th scope=row>834</th><td>ASV48_Pseudomonas </td><td>ASV106_Mesorhizobium</td><td>0.004</td><td>-0.3872</td><td>Negative</td><td>Weak  </td><td>Negative_Weak  </td><td>ASV48_Pseudomonas_ASV106_Mesorhizobium </td><td>ASV48 </td><td>Pseudomonas</td><td>ASV106</td><td>Mesorhizobium</td><td>Pseudomonas_Mesorhizobium</td></tr>\n",
       "\t<tr><th scope=row>846</th><td>ASV57_Pseudomonas </td><td>ASV106_Mesorhizobium</td><td>0.004</td><td>-0.4016</td><td>Negative</td><td>Strong</td><td>Negative_Strong</td><td>ASV57_Pseudomonas_ASV106_Mesorhizobium </td><td>ASV57 </td><td>Pseudomonas</td><td>ASV106</td><td>Mesorhizobium</td><td>Pseudomonas_Mesorhizobium</td></tr>\n",
       "\t<tr><th scope=row>866</th><td>ASV717_Pseudomonas</td><td>ASV106_Mesorhizobium</td><td>0.001</td><td>-0.3831</td><td>Negative</td><td>Weak  </td><td>Negative_Weak  </td><td>ASV717_Pseudomonas_ASV106_Mesorhizobium</td><td>ASV717</td><td>Pseudomonas</td><td>ASV106</td><td>Mesorhizobium</td><td>Pseudomonas_Mesorhizobium</td></tr>\n",
       "\t<tr><th scope=row>1940</th><td>ASV717_Pseudomonas</td><td>ASV112_Mesorhizobium</td><td>0.005</td><td> 0.3815</td><td>Positive</td><td>Weak  </td><td>Positive_Weak  </td><td>ASV717_Pseudomonas_ASV112_Mesorhizobium</td><td>ASV717</td><td>Pseudomonas</td><td>ASV112</td><td>Mesorhizobium</td><td>Pseudomonas_Mesorhizobium</td></tr>\n",
       "\t<tr><th scope=row>5309</th><td>ASV48_Pseudomonas </td><td>ASV139_ANPR         </td><td>0.007</td><td>-0.3291</td><td>Negative</td><td>Weak  </td><td>Negative_Weak  </td><td>ASV48_Pseudomonas_ASV139_ANPR          </td><td>ASV48 </td><td>Pseudomonas</td><td>ASV139</td><td>ANPR         </td><td>Pseudomonas_ANPR         </td></tr>\n",
       "\t<tr><th scope=row>5321</th><td>ASV57_Pseudomonas </td><td>ASV139_ANPR         </td><td>0.006</td><td>-0.3241</td><td>Negative</td><td>Weak  </td><td>Negative_Weak  </td><td>ASV57_Pseudomonas_ASV139_ANPR          </td><td>ASV57 </td><td>Pseudomonas</td><td>ASV139</td><td>ANPR         </td><td>Pseudomonas_ANPR         </td></tr>\n",
       "</tbody>\n",
       "</table>\n"
      ],
      "text/latex": [
       "A data.frame: 6 × 13\n",
       "\\begin{tabular}{r|lllllllllllll}\n",
       "  & Node1 & Node2 & Pvalue & Cor & CorrB & CorRange & CorrStrong & name & v1 & n1 & v2 & n2 & name2\\\\\n",
       "  & <fct> & <fct> & <dbl> & <dbl> & <chr> & <chr> & <chr> & <chr> & <chr> & <chr> & <chr> & <chr> & <chr>\\\\\n",
       "\\hline\n",
       "\t834 & ASV48\\_Pseudomonas  & ASV106\\_Mesorhizobium & 0.004 & -0.3872 & Negative & Weak   & Negative\\_Weak   & ASV48\\_Pseudomonas\\_ASV106\\_Mesorhizobium  & ASV48  & Pseudomonas & ASV106 & Mesorhizobium & Pseudomonas\\_Mesorhizobium\\\\\n",
       "\t846 & ASV57\\_Pseudomonas  & ASV106\\_Mesorhizobium & 0.004 & -0.4016 & Negative & Strong & Negative\\_Strong & ASV57\\_Pseudomonas\\_ASV106\\_Mesorhizobium  & ASV57  & Pseudomonas & ASV106 & Mesorhizobium & Pseudomonas\\_Mesorhizobium\\\\\n",
       "\t866 & ASV717\\_Pseudomonas & ASV106\\_Mesorhizobium & 0.001 & -0.3831 & Negative & Weak   & Negative\\_Weak   & ASV717\\_Pseudomonas\\_ASV106\\_Mesorhizobium & ASV717 & Pseudomonas & ASV106 & Mesorhizobium & Pseudomonas\\_Mesorhizobium\\\\\n",
       "\t1940 & ASV717\\_Pseudomonas & ASV112\\_Mesorhizobium & 0.005 &  0.3815 & Positive & Weak   & Positive\\_Weak   & ASV717\\_Pseudomonas\\_ASV112\\_Mesorhizobium & ASV717 & Pseudomonas & ASV112 & Mesorhizobium & Pseudomonas\\_Mesorhizobium\\\\\n",
       "\t5309 & ASV48\\_Pseudomonas  & ASV139\\_ANPR          & 0.007 & -0.3291 & Negative & Weak   & Negative\\_Weak   & ASV48\\_Pseudomonas\\_ASV139\\_ANPR           & ASV48  & Pseudomonas & ASV139 & ANPR          & Pseudomonas\\_ANPR         \\\\\n",
       "\t5321 & ASV57\\_Pseudomonas  & ASV139\\_ANPR          & 0.006 & -0.3241 & Negative & Weak   & Negative\\_Weak   & ASV57\\_Pseudomonas\\_ASV139\\_ANPR           & ASV57  & Pseudomonas & ASV139 & ANPR          & Pseudomonas\\_ANPR         \\\\\n",
       "\\end{tabular}\n"
      ],
      "text/markdown": [
       "\n",
       "A data.frame: 6 × 13\n",
       "\n",
       "| <!--/--> | Node1 &lt;fct&gt; | Node2 &lt;fct&gt; | Pvalue &lt;dbl&gt; | Cor &lt;dbl&gt; | CorrB &lt;chr&gt; | CorRange &lt;chr&gt; | CorrStrong &lt;chr&gt; | name &lt;chr&gt; | v1 &lt;chr&gt; | n1 &lt;chr&gt; | v2 &lt;chr&gt; | n2 &lt;chr&gt; | name2 &lt;chr&gt; |\n",
       "|---|---|---|---|---|---|---|---|---|---|---|---|---|---|\n",
       "| 834 | ASV48_Pseudomonas  | ASV106_Mesorhizobium | 0.004 | -0.3872 | Negative | Weak   | Negative_Weak   | ASV48_Pseudomonas_ASV106_Mesorhizobium  | ASV48  | Pseudomonas | ASV106 | Mesorhizobium | Pseudomonas_Mesorhizobium |\n",
       "| 846 | ASV57_Pseudomonas  | ASV106_Mesorhizobium | 0.004 | -0.4016 | Negative | Strong | Negative_Strong | ASV57_Pseudomonas_ASV106_Mesorhizobium  | ASV57  | Pseudomonas | ASV106 | Mesorhizobium | Pseudomonas_Mesorhizobium |\n",
       "| 866 | ASV717_Pseudomonas | ASV106_Mesorhizobium | 0.001 | -0.3831 | Negative | Weak   | Negative_Weak   | ASV717_Pseudomonas_ASV106_Mesorhizobium | ASV717 | Pseudomonas | ASV106 | Mesorhizobium | Pseudomonas_Mesorhizobium |\n",
       "| 1940 | ASV717_Pseudomonas | ASV112_Mesorhizobium | 0.005 |  0.3815 | Positive | Weak   | Positive_Weak   | ASV717_Pseudomonas_ASV112_Mesorhizobium | ASV717 | Pseudomonas | ASV112 | Mesorhizobium | Pseudomonas_Mesorhizobium |\n",
       "| 5309 | ASV48_Pseudomonas  | ASV139_ANPR          | 0.007 | -0.3291 | Negative | Weak   | Negative_Weak   | ASV48_Pseudomonas_ASV139_ANPR           | ASV48  | Pseudomonas | ASV139 | ANPR          | Pseudomonas_ANPR          |\n",
       "| 5321 | ASV57_Pseudomonas  | ASV139_ANPR          | 0.006 | -0.3241 | Negative | Weak   | Negative_Weak   | ASV57_Pseudomonas_ASV139_ANPR           | ASV57  | Pseudomonas | ASV139 | ANPR          | Pseudomonas_ANPR          |\n",
       "\n"
      ],
      "text/plain": [
       "     Node1              Node2                Pvalue Cor     CorrB    CorRange\n",
       "834  ASV48_Pseudomonas  ASV106_Mesorhizobium 0.004  -0.3872 Negative Weak    \n",
       "846  ASV57_Pseudomonas  ASV106_Mesorhizobium 0.004  -0.4016 Negative Strong  \n",
       "866  ASV717_Pseudomonas ASV106_Mesorhizobium 0.001  -0.3831 Negative Weak    \n",
       "1940 ASV717_Pseudomonas ASV112_Mesorhizobium 0.005   0.3815 Positive Weak    \n",
       "5309 ASV48_Pseudomonas  ASV139_ANPR          0.007  -0.3291 Negative Weak    \n",
       "5321 ASV57_Pseudomonas  ASV139_ANPR          0.006  -0.3241 Negative Weak    \n",
       "     CorrStrong      name                                    v1     n1         \n",
       "834  Negative_Weak   ASV48_Pseudomonas_ASV106_Mesorhizobium  ASV48  Pseudomonas\n",
       "846  Negative_Strong ASV57_Pseudomonas_ASV106_Mesorhizobium  ASV57  Pseudomonas\n",
       "866  Negative_Weak   ASV717_Pseudomonas_ASV106_Mesorhizobium ASV717 Pseudomonas\n",
       "1940 Positive_Weak   ASV717_Pseudomonas_ASV112_Mesorhizobium ASV717 Pseudomonas\n",
       "5309 Negative_Weak   ASV48_Pseudomonas_ASV139_ANPR           ASV48  Pseudomonas\n",
       "5321 Negative_Weak   ASV57_Pseudomonas_ASV139_ANPR           ASV57  Pseudomonas\n",
       "     v2     n2            name2                    \n",
       "834  ASV106 Mesorhizobium Pseudomonas_Mesorhizobium\n",
       "846  ASV106 Mesorhizobium Pseudomonas_Mesorhizobium\n",
       "866  ASV106 Mesorhizobium Pseudomonas_Mesorhizobium\n",
       "1940 ASV112 Mesorhizobium Pseudomonas_Mesorhizobium\n",
       "5309 ASV139 ANPR          Pseudomonas_ANPR         \n",
       "5321 ASV139 ANPR          Pseudomonas_ANPR         "
      ]
     },
     "metadata": {},
     "output_type": "display_data"
    }
   ],
   "source": [
    "head(final1)"
   ]
  },
  {
   "cell_type": "code",
   "execution_count": 54,
   "metadata": {},
   "outputs": [
    {
     "name": "stdout",
     "output_type": "stream",
     "text": [
      "[1] \"number of correlation between Pseudomonas and ANPR ASVs:\"\n"
     ]
    },
    {
     "data": {
      "text/plain": [
       "\n",
       "Negative \n",
       "      34 "
      ]
     },
     "metadata": {},
     "output_type": "display_data"
    },
    {
     "name": "stdout",
     "output_type": "stream",
     "text": [
      "[1] \"number of correlation between Pseudomonas and Mesorhizobium ASVs:\"\n"
     ]
    },
    {
     "data": {
      "text/plain": [
       "\n",
       "Negative Positive \n",
       "      21       28 "
      ]
     },
     "metadata": {},
     "output_type": "display_data"
    }
   ],
   "source": [
    "f3PsudoANP <- with(final1, final1[ grepl( 'Pseudomonas',final1$name) & grepl( 'ANPR',final1$name) , ])\n",
    "print(\"number of correlation between Pseudomonas and ANPR ASVs:\")\n",
    "table(f3PsudoANP$CorrB)\n",
    "\n",
    "\n",
    "f3PsudoMeso <- with(final1, final1[ grepl( 'Pseudomonas',final1$name) & grepl( 'Mesorhizobium',final1$name) , ])\n",
    "print(\"number of correlation between Pseudomonas and Mesorhizobium ASVs:\")\n",
    "table(f3PsudoMeso$CorrB)"
   ]
  },
  {
   "cell_type": "markdown",
   "metadata": {},
   "source": [
    "# Network visulization"
   ]
  },
  {
   "cell_type": "markdown",
   "metadata": {},
   "source": [
    "#### InputEdgetable.csv table was open in cytoscape program for visulization of following network(figure 6)\n"
   ]
  },
  {
   "cell_type": "markdown",
   "metadata": {},
   "source": [
    "![title](../fig6.png)"
   ]
  }
 ],
 "metadata": {
  "kernelspec": {
   "display_name": "R",
   "language": "R",
   "name": "ir"
  },
  "language_info": {
   "codemirror_mode": "r",
   "file_extension": ".r",
   "mimetype": "text/x-r-source",
   "name": "R",
   "pygments_lexer": "r",
   "version": "3.6.1"
  }
 },
 "nbformat": 4,
 "nbformat_minor": 4
}
