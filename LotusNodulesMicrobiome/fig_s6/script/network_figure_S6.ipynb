{
 "cells": [
  {
   "cell_type": "markdown",
   "metadata": {},
   "source": [
    "This script provides input files and steps for visulizing interaction network of ASVs (figure 6)"
   ]
  },
  {
   "cell_type": "code",
   "execution_count": 9,
   "metadata": {},
   "outputs": [],
   "source": [
    "# import packages\n",
    "library(dplyr)\n",
    "library(tidyr)\n"
   ]
  },
  {
   "cell_type": "code",
   "execution_count": 13,
   "metadata": {},
   "outputs": [
    {
     "data": {
      "text/html": [
       "<table>\n",
       "<caption>A data.frame: 6 × 31</caption>\n",
       "<thead>\n",
       "\t<tr><th></th><th scope=col>#OTU ID</th><th scope=col>Lb_2_Healthy_A</th><th scope=col>Lb_2_Healthy_B</th><th scope=col>Lb_2_Healthy_C</th><th scope=col>Lb_2_Healthy_D</th><th scope=col>Lb_2_Healthy_E</th><th scope=col>Lb_2_Healthy_F</th><th scope=col>Lb_2_Healthy_G</th><th scope=col>Lb_2_Healthy_H</th><th scope=col>Lb_2_Healthy_I</th><th scope=col>⋯</th><th scope=col>Lb_2_Starved_D</th><th scope=col>Lb_2_Starved_E</th><th scope=col>Lb_2_Starved_F</th><th scope=col>Lb_2_Starved_G</th><th scope=col>Lb_2_Starved_H</th><th scope=col>Lb_2_Starved_I</th><th scope=col>Lb_2_Starved_J</th><th scope=col>Lb_2_Starved_K</th><th scope=col>Lb_2_Starved_L</th><th scope=col>Lb_2_Starved_M</th></tr>\n",
       "\t<tr><th></th><th scope=col>&lt;chr&gt;</th><th scope=col>&lt;dbl&gt;</th><th scope=col>&lt;dbl&gt;</th><th scope=col>&lt;dbl&gt;</th><th scope=col>&lt;dbl&gt;</th><th scope=col>&lt;dbl&gt;</th><th scope=col>&lt;dbl&gt;</th><th scope=col>&lt;dbl&gt;</th><th scope=col>&lt;dbl&gt;</th><th scope=col>&lt;dbl&gt;</th><th scope=col>⋯</th><th scope=col>&lt;dbl&gt;</th><th scope=col>&lt;dbl&gt;</th><th scope=col>&lt;dbl&gt;</th><th scope=col>&lt;dbl&gt;</th><th scope=col>&lt;dbl&gt;</th><th scope=col>&lt;dbl&gt;</th><th scope=col>&lt;dbl&gt;</th><th scope=col>&lt;dbl&gt;</th><th scope=col>&lt;dbl&gt;</th><th scope=col>&lt;dbl&gt;</th></tr>\n",
       "</thead>\n",
       "<tbody>\n",
       "\t<tr><th scope=row>1</th><td>ASV1_Mesorhizobium  </td><td>158682</td><td>96522</td><td>79175</td><td>185493</td><td>79161</td><td>118648</td><td>157116</td><td>159759</td><td>190633</td><td>⋯</td><td>260</td><td>91388</td><td>39483</td><td>1511</td><td>95205</td><td>33101</td><td>51779</td><td>27003</td><td>144</td><td>2271</td></tr>\n",
       "\t<tr><th scope=row>2</th><td>ASV1032_unknown     </td><td>     0</td><td>    0</td><td>    0</td><td>     0</td><td>    0</td><td>     0</td><td>     0</td><td>    42</td><td>     0</td><td>⋯</td><td>  0</td><td>    0</td><td>    0</td><td>   0</td><td>    0</td><td>   19</td><td>    0</td><td>    0</td><td>  0</td><td>   0</td></tr>\n",
       "\t<tr><th scope=row>3</th><td>ASV104_Mesorhizobium</td><td>     0</td><td>    0</td><td>  385</td><td>     0</td><td>    0</td><td>     0</td><td>     0</td><td>     0</td><td>     0</td><td>⋯</td><td>  0</td><td>    0</td><td>    0</td><td>   0</td><td>    0</td><td>    0</td><td>    0</td><td>    0</td><td>  0</td><td>   0</td></tr>\n",
       "\t<tr><th scope=row>4</th><td>ASV1049_unknown     </td><td>     0</td><td>    0</td><td>    0</td><td>     0</td><td>    0</td><td>     0</td><td>     0</td><td>     0</td><td>     0</td><td>⋯</td><td>  8</td><td>    0</td><td>   22</td><td>  11</td><td>    0</td><td>    0</td><td>    0</td><td>    0</td><td>  0</td><td>   0</td></tr>\n",
       "\t<tr><th scope=row>5</th><td>ASV106_Mesorhizobium</td><td>     0</td><td>    0</td><td>    0</td><td>     0</td><td>   92</td><td>     0</td><td>     0</td><td>     0</td><td>     0</td><td>⋯</td><td> 57</td><td>    0</td><td>  269</td><td> 195</td><td>    0</td><td>  127</td><td>   97</td><td>   93</td><td>  0</td><td>  23</td></tr>\n",
       "\t<tr><th scope=row>6</th><td>ASV108_Mesorhizobium</td><td>     0</td><td>    0</td><td>  347</td><td>     0</td><td>    0</td><td>     0</td><td>     0</td><td>     0</td><td>     0</td><td>⋯</td><td>  0</td><td>    0</td><td>    0</td><td>   0</td><td>    0</td><td>    0</td><td>    0</td><td>    0</td><td>  0</td><td>   0</td></tr>\n",
       "</tbody>\n",
       "</table>\n"
      ],
      "text/latex": [
       "A data.frame: 6 × 31\n",
       "\\begin{tabular}{r|lllllllllllllllllllll}\n",
       "  & \\#OTU ID & Lb\\_2\\_Healthy\\_A & Lb\\_2\\_Healthy\\_B & Lb\\_2\\_Healthy\\_C & Lb\\_2\\_Healthy\\_D & Lb\\_2\\_Healthy\\_E & Lb\\_2\\_Healthy\\_F & Lb\\_2\\_Healthy\\_G & Lb\\_2\\_Healthy\\_H & Lb\\_2\\_Healthy\\_I & ⋯ & Lb\\_2\\_Starved\\_D & Lb\\_2\\_Starved\\_E & Lb\\_2\\_Starved\\_F & Lb\\_2\\_Starved\\_G & Lb\\_2\\_Starved\\_H & Lb\\_2\\_Starved\\_I & Lb\\_2\\_Starved\\_J & Lb\\_2\\_Starved\\_K & Lb\\_2\\_Starved\\_L & Lb\\_2\\_Starved\\_M\\\\\n",
       "  & <chr> & <dbl> & <dbl> & <dbl> & <dbl> & <dbl> & <dbl> & <dbl> & <dbl> & <dbl> & ⋯ & <dbl> & <dbl> & <dbl> & <dbl> & <dbl> & <dbl> & <dbl> & <dbl> & <dbl> & <dbl>\\\\\n",
       "\\hline\n",
       "\t1 & ASV1\\_Mesorhizobium   & 158682 & 96522 & 79175 & 185493 & 79161 & 118648 & 157116 & 159759 & 190633 & ⋯ & 260 & 91388 & 39483 & 1511 & 95205 & 33101 & 51779 & 27003 & 144 & 2271\\\\\n",
       "\t2 & ASV1032\\_unknown      &      0 &     0 &     0 &      0 &     0 &      0 &      0 &     42 &      0 & ⋯ &   0 &     0 &     0 &    0 &     0 &    19 &     0 &     0 &   0 &    0\\\\\n",
       "\t3 & ASV104\\_Mesorhizobium &      0 &     0 &   385 &      0 &     0 &      0 &      0 &      0 &      0 & ⋯ &   0 &     0 &     0 &    0 &     0 &     0 &     0 &     0 &   0 &    0\\\\\n",
       "\t4 & ASV1049\\_unknown      &      0 &     0 &     0 &      0 &     0 &      0 &      0 &      0 &      0 & ⋯ &   8 &     0 &    22 &   11 &     0 &     0 &     0 &     0 &   0 &    0\\\\\n",
       "\t5 & ASV106\\_Mesorhizobium &      0 &     0 &     0 &      0 &    92 &      0 &      0 &      0 &      0 & ⋯ &  57 &     0 &   269 &  195 &     0 &   127 &    97 &    93 &   0 &   23\\\\\n",
       "\t6 & ASV108\\_Mesorhizobium &      0 &     0 &   347 &      0 &     0 &      0 &      0 &      0 &      0 & ⋯ &   0 &     0 &     0 &    0 &     0 &     0 &     0 &     0 &   0 &    0\\\\\n",
       "\\end{tabular}\n"
      ],
      "text/markdown": [
       "\n",
       "A data.frame: 6 × 31\n",
       "\n",
       "| <!--/--> | #OTU ID &lt;chr&gt; | Lb_2_Healthy_A &lt;dbl&gt; | Lb_2_Healthy_B &lt;dbl&gt; | Lb_2_Healthy_C &lt;dbl&gt; | Lb_2_Healthy_D &lt;dbl&gt; | Lb_2_Healthy_E &lt;dbl&gt; | Lb_2_Healthy_F &lt;dbl&gt; | Lb_2_Healthy_G &lt;dbl&gt; | Lb_2_Healthy_H &lt;dbl&gt; | Lb_2_Healthy_I &lt;dbl&gt; | ⋯ ⋯ | Lb_2_Starved_D &lt;dbl&gt; | Lb_2_Starved_E &lt;dbl&gt; | Lb_2_Starved_F &lt;dbl&gt; | Lb_2_Starved_G &lt;dbl&gt; | Lb_2_Starved_H &lt;dbl&gt; | Lb_2_Starved_I &lt;dbl&gt; | Lb_2_Starved_J &lt;dbl&gt; | Lb_2_Starved_K &lt;dbl&gt; | Lb_2_Starved_L &lt;dbl&gt; | Lb_2_Starved_M &lt;dbl&gt; |\n",
       "|---|---|---|---|---|---|---|---|---|---|---|---|---|---|---|---|---|---|---|---|---|---|\n",
       "| 1 | ASV1_Mesorhizobium   | 158682 | 96522 | 79175 | 185493 | 79161 | 118648 | 157116 | 159759 | 190633 | ⋯ | 260 | 91388 | 39483 | 1511 | 95205 | 33101 | 51779 | 27003 | 144 | 2271 |\n",
       "| 2 | ASV1032_unknown      |      0 |     0 |     0 |      0 |     0 |      0 |      0 |     42 |      0 | ⋯ |   0 |     0 |     0 |    0 |     0 |    19 |     0 |     0 |   0 |    0 |\n",
       "| 3 | ASV104_Mesorhizobium |      0 |     0 |   385 |      0 |     0 |      0 |      0 |      0 |      0 | ⋯ |   0 |     0 |     0 |    0 |     0 |     0 |     0 |     0 |   0 |    0 |\n",
       "| 4 | ASV1049_unknown      |      0 |     0 |     0 |      0 |     0 |      0 |      0 |      0 |      0 | ⋯ |   8 |     0 |    22 |   11 |     0 |     0 |     0 |     0 |   0 |    0 |\n",
       "| 5 | ASV106_Mesorhizobium |      0 |     0 |     0 |      0 |    92 |      0 |      0 |      0 |      0 | ⋯ |  57 |     0 |   269 |  195 |     0 |   127 |    97 |    93 |   0 |   23 |\n",
       "| 6 | ASV108_Mesorhizobium |      0 |     0 |   347 |      0 |     0 |      0 |      0 |      0 |      0 | ⋯ |   0 |     0 |     0 |    0 |     0 |     0 |     0 |     0 |   0 |    0 |\n",
       "\n"
      ],
      "text/plain": [
       "  #OTU ID              Lb_2_Healthy_A Lb_2_Healthy_B Lb_2_Healthy_C\n",
       "1 ASV1_Mesorhizobium   158682         96522          79175         \n",
       "2 ASV1032_unknown           0             0              0         \n",
       "3 ASV104_Mesorhizobium      0             0            385         \n",
       "4 ASV1049_unknown           0             0              0         \n",
       "5 ASV106_Mesorhizobium      0             0              0         \n",
       "6 ASV108_Mesorhizobium      0             0            347         \n",
       "  Lb_2_Healthy_D Lb_2_Healthy_E Lb_2_Healthy_F Lb_2_Healthy_G Lb_2_Healthy_H\n",
       "1 185493         79161          118648         157116         159759        \n",
       "2      0             0               0              0             42        \n",
       "3      0             0               0              0              0        \n",
       "4      0             0               0              0              0        \n",
       "5      0            92               0              0              0        \n",
       "6      0             0               0              0              0        \n",
       "  Lb_2_Healthy_I ⋯ Lb_2_Starved_D Lb_2_Starved_E Lb_2_Starved_F Lb_2_Starved_G\n",
       "1 190633         ⋯ 260            91388          39483          1511          \n",
       "2      0         ⋯   0                0              0             0          \n",
       "3      0         ⋯   0                0              0             0          \n",
       "4      0         ⋯   8                0             22            11          \n",
       "5      0         ⋯  57                0            269           195          \n",
       "6      0         ⋯   0                0              0             0          \n",
       "  Lb_2_Starved_H Lb_2_Starved_I Lb_2_Starved_J Lb_2_Starved_K Lb_2_Starved_L\n",
       "1 95205          33101          51779          27003          144           \n",
       "2     0             19              0              0            0           \n",
       "3     0              0              0              0            0           \n",
       "4     0              0              0              0            0           \n",
       "5     0            127             97             93            0           \n",
       "6     0              0              0              0            0           \n",
       "  Lb_2_Starved_M\n",
       "1 2271          \n",
       "2    0          \n",
       "3    0          \n",
       "4    0          \n",
       "5   23          \n",
       "6    0          "
      ]
     },
     "metadata": {},
     "output_type": "display_data"
    }
   ],
   "source": [
    "# make a input table for calculation correlation matrix(select only lb plant samples and rmove ASVs with less than 50 reads)\n",
    "\n",
    "asv <- read.table(\"../data/ASV_Table.csv\" ,sep = \",\" , header = T )\n",
    "rownames(asv) <- asv$X\n",
    "taxa = read.table(\"../data/TaxaTable.csv\" ,sep = \",\" , header = T ,stringsAsFactors = FALSE)\n",
    "taxa$Genus <- taxa$Genus %>% replace_na(\"unknown\")\n",
    "taxa$Genus <- gsub(\"Allorhizobium-Neorhizobium-Pararhizobium-Rhizobium\" , 'ANPR' ,taxa$Genus )\n",
    "asvSam = merge(x <-taxa[c(1,7)], y = t(asv) ,  by.x = \"X\" , by.y = \"row.names\")\n",
    "rownames(asvSam) <- paste(asvSam$X,asvSam$Genus , sep=\"_\")\n",
    "asvSam1 <- asvSam[-c(1,2)]\n",
    "\n",
    "sample <- data.frame(asv$X)\n",
    "sample1 <- sample %>% separate(asv.X, c(\"plant\",\"soil\",\"phenotype\",\"replicate\") , remove = F)\n",
    "sample1$soil_phenotype_plant <-  paste(sample1$soil,sample1$phenotype,sample1$plant,sep = \"_\")\n",
    "\n",
    "#table(sample1$soil_phenotype_plant)\n",
    "samasv = merge(x <- sample1 , y = t(asvSam1) , by.x = \"asv.X\" , by.y = \"row.names\")\n",
    "rownames(samasv) <- samasv$asv.X\n",
    "\n",
    "#all allBsoil2\n",
    "lb <- subset(samasv ,soil_phenotype_plant == \"2_Healthy_Lb\"| soil_phenotype_plant == \"2_Starved_Lb\" )\n",
    "lb <- lb[-c(1:6)]\n",
    "lb <- as.data.frame(t(lb))\n",
    "lb1 <- apply(lb[,], 2,function(x) as.numeric(as.character(x)))\n",
    "rownames(lb1) <- rownames(lb)\n",
    "n <- data.frame(rowSums(lb1!=0))\n",
    "n$sum <- rowSums(lb1)\n",
    "n$name <- rownames(n)\n",
    "nH1 <- n\n",
    "lb1 <- as.data.frame(lb1[which(rowSums(lb1)>=50),])\n",
    "lb2 <- tibble::rownames_to_column(lb1, \"#OTU ID\")\n",
    "write.table(lb2, \"../data/data1.txr\", quote = F , sep = \"\\t\" , col.names = T , row.names = F)\n",
    "head(lb2)\n"
   ]
  },
  {
   "cell_type": "markdown",
   "metadata": {},
   "source": [
    "# calculate correlation matrix \n",
    "\n",
    "FastSpar(github.com/scwatts/FastSpar) was used to calculate correlation matrix via command line.   \n",
    "\n",
    "mkdir bootstrap_counts bootstrap_correlation\n",
    "#### step1: Correlation inference\n",
    "fastspar --otu_table data1.txt  --correlation median_correlation.tsv --covariance median_covariance.tsv > log1\n",
    "\n",
    "#### step2: inpoder to get exact p-value, first generate 1000 bootstrap counts\n",
    "mkdir bootstrap_counts\n",
    "fastspar_bootstrap --otu_table data1.txt   --number 1000 --prefix bootstrap_counts/ > log2\n",
    "#### step3: infer correlations for each bootstrap count (running in parallel):\n",
    "mkdir bootstrap_correlation\n",
    "parallel -j 12 fastspar --otu_table {} --correlation bootstrap_correlation/cor_{/} --covariance bootstrap_correlation/cov_{/} -i 50 ::: bootstrap_counts/*  > log3\n",
    "#### step4: From these correlations, the p-values are then calculated:\n",
    "fastspar_pvalues --otu_table data1.txt   --correlation median_correlation.tsv --prefix bootstrap_correlation/cor_  --permutations 1000 --outfile pvalues.tsv > log4\n",
    "\n",
    "#### output files are in data folder : median_correlation.tsv and pvalues.tsv , remove \"#\" from the files before opening in R\n",
    "\n"
   ]
  },
  {
   "cell_type": "markdown",
   "metadata": {},
   "source": [
    "#### Step5: Take the correlation of Pseudomonas ASVs with ANPR and Mesorisubiums from correlation matrix\n",
    "\n"
   ]
  },
  {
   "cell_type": "code",
   "execution_count": 11,
   "metadata": {},
   "outputs": [],
   "source": [
    "\n",
    "Pvals <- read.table(file = \"../data/pvalues.tsv\", sep=\"\\t\", header=T, row.names=1 ) \n",
    "Pvals1 <- as.matrix(Pvals)\n",
    "Pvals1[upper.tri(Pvals, diag=TRUE)]<- NA\n",
    "Pvals2 <- as.data.frame(as.table(Pvals1))\n",
    "colnames(Pvals2)<-c(\"Node1\",\"Node2\",\"Pvalue\")\n",
    "  \n",
    "Cors <- read.table(\"../data/median_correlation.tsv\", sep=\"\\t\", header=T, row.names=1) \n",
    "Cors1 <- as.matrix(Cors)\n",
    "Cors1[upper.tri(Cors1, diag=TRUE)]<-NA\n",
    "Cors2 <- as.data.frame(as.table(Cors1))\n",
    "colnames(Cors2)<-c(\"Node1\",\"Node2\",\"Cor\")\n",
    "  \n",
    "Edge_table <- cbind(Pvals2,Cors2$Cor, deparse.level=2)\n",
    "Edge_table_final <- Edge_table[!is.na(Edge_table$Pvalue),]\n",
    "colnames(Edge_table_final) <- c(\"Node1\",\"Node2\",\"Pvalue\",\"Cor\")\n",
    "Edge_table_final <- subset(Edge_table_final,abs(Edge_table_final$Cor)>=0.2)\n",
    "Edge_table_final$CorrB <- ifelse(Edge_table_final$Cor >=0, \"Positive\", \"Negative\")\n",
    "Edge_table_final$CorRange <- ifelse(abs(Edge_table_final$Cor) >=0.4, \"Strong\", \"Weak\")\n",
    "Edge_table_final_P0.01 <- Edge_table_final[which(Edge_table_final$Pvalue<=0.01),]\n",
    "#table(Edge_table_final_P0.01$CorrB)\n",
    "Edge_table_final_P0.01$CorrStrong = paste(Edge_table_final_P0.01$CorrB , Edge_table_final_P0.01$CorRange , sep = \"_\")\n",
    "write.table(Edge_table_final_P0.01, file=\"../data/Healthy2Starved2EdgeTable.tsv\", sep=\",\", row.names=FALSE , quote = F)\n",
    "\n",
    "# subset correlation of pseudomonas with ANPR andMesorhizobium\n",
    "file <- Edge_table_final_P0.01\n",
    "file$name = paste(file$Node1,file$Node2, sep = \"_\")\n",
    "file <- file %>% separate(name, c(\"v1\",\"n1\",\"v2\",\"n2\") , remove = F)\n",
    "file$name2 <- paste(file$n1,file$n2,sep = \"_\")\n",
    "\n"
   ]
  },
  {
   "cell_type": "markdown",
   "metadata": {},
   "source": [
    "### signifiganct correlation between Pseudomonas ,ANPR and Mesorhizobium"
   ]
  },
  {
   "cell_type": "code",
   "execution_count": 12,
   "metadata": {},
   "outputs": [
    {
     "name": "stdout",
     "output_type": "stream",
     "text": [
      "[1] \"number of correlation whitin Pseudomonas ASVs :\"\n"
     ]
    },
    {
     "data": {
      "text/plain": [
       "\n",
       "Positive \n",
       "       8 "
      ]
     },
     "metadata": {},
     "output_type": "display_data"
    },
    {
     "name": "stdout",
     "output_type": "stream",
     "text": [
      "[1] \"number of correlation whitin Mesorhizobium ASVs :\"\n"
     ]
    },
    {
     "data": {
      "text/plain": [
       "\n",
       "Negative Positive \n",
       "     327      311 "
      ]
     },
     "metadata": {},
     "output_type": "display_data"
    },
    {
     "name": "stdout",
     "output_type": "stream",
     "text": [
      "[1] \"number of correlation whitin ANPR ASVs :\"\n"
     ]
    },
    {
     "data": {
      "text/plain": [
       "\n",
       "Negative Positive \n",
       "     333      293 "
      ]
     },
     "metadata": {},
     "output_type": "display_data"
    },
    {
     "name": "stdout",
     "output_type": "stream",
     "text": [
      "[1] \"number of correlation between Pseudomonas and ANPR ASVs :\"\n"
     ]
    },
    {
     "data": {
      "text/plain": [
       "\n",
       "Negative \n",
       "      37 "
      ]
     },
     "metadata": {},
     "output_type": "display_data"
    },
    {
     "name": "stdout",
     "output_type": "stream",
     "text": [
      "[1] \"number of correlation between Pseudomonas and Mesorhizobium ASVs :\"\n"
     ]
    },
    {
     "data": {
      "text/plain": [
       "\n",
       "Negative Positive \n",
       "      23       30 "
      ]
     },
     "metadata": {},
     "output_type": "display_data"
    },
    {
     "name": "stdout",
     "output_type": "stream",
     "text": [
      "[1] \"number of correlation between ANPR and Mesorhizobium ASVs :\"\n"
     ]
    },
    {
     "data": {
      "text/plain": [
       "\n",
       "Negative Positive \n",
       "     798      482 "
      ]
     },
     "metadata": {},
     "output_type": "display_data"
    }
   ],
   "source": [
    "Psudo <- with(file, file[ grepl( 'Pseudomonas',file$Node1) & grepl( 'Pseudomonas', file$Node2), ])\n",
    "print(\"number of correlation whitin Pseudomonas ASVs :\" )\n",
    "table(Psudo$CorrB)\n",
    "\n",
    "fileMeso <- with(file, file[ grepl( 'Mesorhizobium',file$Node1) & grepl( 'Mesorhizobium', file$Node2), ])\n",
    "print(\"number of correlation whitin Mesorhizobium ASVs :\")\n",
    "table(fileMeso$CorrB)\n",
    "\n",
    "fileANPR <- with(file, file[ grepl( 'ANPR',file$Node1) & grepl( 'ANPR', file$Node2), ])\n",
    "print(\"number of correlation whitin ANPR ASVs :\")\n",
    "table(fileANPR$CorrB)\n",
    "\n",
    "filePsudoANP <- with(file, file[ grepl( 'Pseudomonas',file$name) & grepl( 'ANPR',file$name) , ])\n",
    "print(\"number of correlation between Pseudomonas and ANPR ASVs :\")\n",
    "table(filePsudoANP$CorrB)\n",
    "\n",
    "filePsudoMeso <- with(file, file[ grepl( 'Pseudomonas',file$name) & grepl( 'Mesorhizobium',file$name) , ])\n",
    "print(\"number of correlation between Pseudomonas and Mesorhizobium ASVs :\")\n",
    "table(filePsudoMeso$CorrB)\n",
    "\n",
    "fileANPMeso <- with(file, file[ grepl( 'ANPR',file$name) & grepl( 'Mesorhizobium',file$name) , ])\n",
    "print(\"number of correlation between ANPR and Mesorhizobium ASVs :\")\n",
    "table(fileANPMeso$CorrB)"
   ]
  },
  {
   "cell_type": "markdown",
   "metadata": {},
   "source": [
    "# Network visulization"
   ]
  },
  {
   "cell_type": "markdown",
   "metadata": {
    "tags": []
   },
   "source": [
    "####  \"../data/Healthy2Starved2EdgeTable.tsv\" was opend in cytoscape program for visulization of following network(figure 6)"
   ]
  },
  {
   "cell_type": "markdown",
   "metadata": {},
   "source": [
    "![title](../fig_s6.png)"
   ]
  }
 ],
 "metadata": {
  "kernelspec": {
   "display_name": "R",
   "language": "R",
   "name": "ir"
  },
  "language_info": {
   "codemirror_mode": "r",
   "file_extension": ".r",
   "mimetype": "text/x-r-source",
   "name": "R",
   "pygments_lexer": "r",
   "version": "3.6.1"
  }
 },
 "nbformat": 4,
 "nbformat_minor": 4
}
